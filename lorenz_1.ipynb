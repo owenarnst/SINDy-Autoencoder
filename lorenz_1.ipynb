{
 "cells": [
  {
   "cell_type": "code",
   "execution_count": 7,
   "metadata": {},
   "outputs": [],
   "source": [
    "\n",
    "from autoencoder.autoencoder import AutoEncoder\n",
    "import torch\n",
    "import pickle\n",
    "from autoencoder.loss import Loss\n",
    "from sindy_network import SINDy\n",
    "from sindy.SINDy_library import *\n",
    "import matplotlib.pyplot as plt\n",
    "from mpl_toolkits.mplot3d import Axes3D\n",
    "%matplotlib inline\n",
    "device = 'cuda'\n",
    "import numpy as np\n",
    "import dill\n",
    "  "
   ]
  },
  {
   "cell_type": "code",
   "execution_count": 5,
   "metadata": {},
   "outputs": [
    {
     "ename": "FileNotFoundError",
     "evalue": "[Errno 2] No such file or directory: 'model_lorenz_1_1000'",
     "output_type": "error",
     "traceback": [
      "\u001b[0;31m---------------------------------------------------------------------------\u001b[0m",
      "\u001b[0;31mFileNotFoundError\u001b[0m                         Traceback (most recent call last)",
      "Cell \u001b[0;32mIn[5], line 5\u001b[0m\n\u001b[1;32m      3\u001b[0m encoder \u001b[38;5;241m=\u001b[39m AutoEncoder(params, \u001b[38;5;124m'\u001b[39m\u001b[38;5;124mencoder\u001b[39m\u001b[38;5;124m'\u001b[39m)\n\u001b[1;32m      4\u001b[0m decoder \u001b[38;5;241m=\u001b[39m AutoEncoder(params, \u001b[38;5;124m'\u001b[39m\u001b[38;5;124mdecoder\u001b[39m\u001b[38;5;124m'\u001b[39m)\n\u001b[0;32m----> 5\u001b[0m sindy \u001b[38;5;241m=\u001b[39m dill\u001b[38;5;241m.\u001b[39mload(\u001b[38;5;28;43mopen\u001b[39;49m\u001b[43m(\u001b[49m\u001b[38;5;124;43mf\u001b[39;49m\u001b[38;5;124;43m'\u001b[39;49m\u001b[38;5;124;43mmodel_lorenz_1_1000\u001b[39;49m\u001b[38;5;124;43m'\u001b[39;49m\u001b[43m,\u001b[49m\u001b[43m \u001b[49m\u001b[38;5;124;43m'\u001b[39;49m\u001b[38;5;124;43mrb\u001b[39;49m\u001b[38;5;124;43m'\u001b[39;49m\u001b[43m)\u001b[49m)\n\u001b[1;32m      6\u001b[0m sindy\u001b[38;5;241m.\u001b[39mto(device)\n\u001b[1;32m      7\u001b[0m training_data \u001b[38;5;241m=\u001b[39m pickle\u001b[38;5;241m.\u001b[39mload(\u001b[38;5;28mopen\u001b[39m(\u001b[38;5;124m'\u001b[39m\u001b[38;5;124mdataset_generation/test_data.pkl\u001b[39m\u001b[38;5;124m'\u001b[39m, \u001b[38;5;124m'\u001b[39m\u001b[38;5;124mrb\u001b[39m\u001b[38;5;124m'\u001b[39m))\n",
      "File \u001b[0;32m~/.pyenv/versions/3.10.4/lib/python3.10/site-packages/IPython/core/interactiveshell.py:324\u001b[0m, in \u001b[0;36m_modified_open\u001b[0;34m(file, *args, **kwargs)\u001b[0m\n\u001b[1;32m    317\u001b[0m \u001b[38;5;28;01mif\u001b[39;00m file \u001b[38;5;129;01min\u001b[39;00m {\u001b[38;5;241m0\u001b[39m, \u001b[38;5;241m1\u001b[39m, \u001b[38;5;241m2\u001b[39m}:\n\u001b[1;32m    318\u001b[0m     \u001b[38;5;28;01mraise\u001b[39;00m \u001b[38;5;167;01mValueError\u001b[39;00m(\n\u001b[1;32m    319\u001b[0m         \u001b[38;5;124mf\u001b[39m\u001b[38;5;124m\"\u001b[39m\u001b[38;5;124mIPython won\u001b[39m\u001b[38;5;124m'\u001b[39m\u001b[38;5;124mt let you open fd=\u001b[39m\u001b[38;5;132;01m{\u001b[39;00mfile\u001b[38;5;132;01m}\u001b[39;00m\u001b[38;5;124m by default \u001b[39m\u001b[38;5;124m\"\u001b[39m\n\u001b[1;32m    320\u001b[0m         \u001b[38;5;124m\"\u001b[39m\u001b[38;5;124mas it is likely to crash IPython. If you know what you are doing, \u001b[39m\u001b[38;5;124m\"\u001b[39m\n\u001b[1;32m    321\u001b[0m         \u001b[38;5;124m\"\u001b[39m\u001b[38;5;124myou can use builtins\u001b[39m\u001b[38;5;124m'\u001b[39m\u001b[38;5;124m open.\u001b[39m\u001b[38;5;124m\"\u001b[39m\n\u001b[1;32m    322\u001b[0m     )\n\u001b[0;32m--> 324\u001b[0m \u001b[38;5;28;01mreturn\u001b[39;00m \u001b[43mio_open\u001b[49m\u001b[43m(\u001b[49m\u001b[43mfile\u001b[49m\u001b[43m,\u001b[49m\u001b[43m \u001b[49m\u001b[38;5;241;43m*\u001b[39;49m\u001b[43margs\u001b[49m\u001b[43m,\u001b[49m\u001b[43m \u001b[49m\u001b[38;5;241;43m*\u001b[39;49m\u001b[38;5;241;43m*\u001b[39;49m\u001b[43mkwargs\u001b[49m\u001b[43m)\u001b[49m\n",
      "\u001b[0;31mFileNotFoundError\u001b[0m: [Errno 2] No such file or directory: 'model_lorenz_1_1000'"
     ]
    }
   ],
   "source": [
    "params = pickle.load(open('utils/model1_params.pkl', 'rb'))\n",
    "\n",
    "encoder = AutoEncoder(params, 'encoder')\n",
    "decoder = AutoEncoder(params, 'decoder')\n",
    "sindy = dill.load(open(f'model_lorenz_1_1000', 'rb'))\n",
    "sindy.to(device)\n",
    "training_data = pickle.load(open('dataset_generation/test_data.pkl', 'rb'))\n",
    "\n",
    "criterion = Loss(\n",
    "        params['loss_weight_decoder'],\n",
    "        params['loss_weight_sindy_z'],\n",
    "        params['loss_weight_sindy_x'],\n",
    "        params['loss_weight_sindy_regularization']\n",
    "        )\n",
    "    \n",
    "def run():\n",
    "    x, dx, dz_predict, dz, x_decode, dx_decode, sindy_coefficients, sindy_predict, ddz, ddx, ddx_decode, z = sindy(torch.from_numpy(training_data['x']).to(device=device), torch.from_numpy(training_data['dx']).to(device=device), torch.from_numpy(training_data['ddx']).to(device=device))\n",
    "    loss = criterion(x, dx, dz, dz_predict, x_decode, dx_decode, sindy_coefficients, ddz, ddx, ddx_decode, sindy.coefficient_mask)\n",
    "             \n",
    "    return x, dx, dz, dz_predict, x_decode, dx_decode, sindy_coefficients, sindy_predict, ddz, ddx, ddx_decode, z, loss  "
   ]
  },
  {
   "cell_type": "code",
   "execution_count": 6,
   "metadata": {},
   "outputs": [
    {
     "ename": "NameError",
     "evalue": "name 'run' is not defined",
     "output_type": "error",
     "traceback": [
      "\u001b[0;31m---------------------------------------------------------------------------\u001b[0m",
      "\u001b[0;31mNameError\u001b[0m                                 Traceback (most recent call last)",
      "Cell \u001b[0;32mIn[6], line 1\u001b[0m\n\u001b[0;32m----> 1\u001b[0m x, dx, dz, dz_pred, x_decode, dx_decode, sindy_coefficients, sindy_predict, ddz, ddx, ddx_decode, z, loss \u001b[38;5;241m=\u001b[39m \u001b[43mrun\u001b[49m()\n",
      "\u001b[0;31mNameError\u001b[0m: name 'run' is not defined"
     ]
    }
   ],
   "source": [
    "x, dx, dz, dz_pred, x_decode, dx_decode, sindy_coefficients, sindy_predict, ddz, ddx, ddx_decode, z, loss = run()"
   ]
  },
  {
   "cell_type": "code",
   "execution_count": 17,
   "metadata": {},
   "outputs": [
    {
     "name": "stdout",
     "output_type": "stream",
     "text": [
      "tensor([[-5.2630e-02, -2.6185e-02,  7.1148e-01],\n",
      "        [-4.4009e-02,  2.3602e-02, -4.9072e-02],\n",
      "        [ 1.9142e-01,  5.0389e-02,  2.8308e-01],\n",
      "        [-5.4290e-01, -3.3883e-02,  1.6699e-04],\n",
      "        [ 8.7651e-02, -2.2960e-02, -1.3281e+00],\n",
      "        [ 6.7333e-02, -3.8097e-01, -2.3211e-02],\n",
      "        [-3.5891e-02, -4.3048e-04,  1.0285e-02],\n",
      "        [ 1.2722e-01, -1.9083e-02, -2.8864e-02],\n",
      "        [ 2.4637e+00,  3.9524e-01, -3.1228e-01],\n",
      "        [-3.1940e-02, -1.5167e-02,  9.1976e-01],\n",
      "        [-3.0051e-02, -1.0353e-01,  1.0943e+00],\n",
      "        [ 2.5987e-02,  3.7156e-01,  1.0961e+00],\n",
      "        [-9.0866e-01,  3.9979e-01,  6.0607e-01],\n",
      "        [-6.8170e-01,  1.2204e+00, -2.0211e-02],\n",
      "        [-1.5745e+00,  1.0842e+00, -2.0668e-02],\n",
      "        [-2.5190e-02, -1.0773e-02, -1.7174e-02],\n",
      "        [-1.0187e+00,  8.1719e-03, -9.1091e-02],\n",
      "        [-2.5300e-02, -1.9104e-02, -1.9080e-02],\n",
      "        [-4.6177e-02,  6.0573e-01, -5.9152e-01],\n",
      "        [-2.2553e-02,  1.0167e+00,  9.8824e-02]], dtype=torch.float64)\n"
     ]
    }
   ],
   "source": [
    "sindy_coefficients = sindy_coefficients.to('cpu').detach()\n",
    "z = z.to('cpu').detach()#.numpy()\n",
    "a1 = 1\n",
    "a2 = training_data['sindy_coefficients'][2,0]/sindy_coefficients[2,0]\n",
    "a3 = np.sqrt(sindy_coefficients[5,2]/sindy_coefficients[6,1]*a2**2)\n",
    "b3 = -sindy_coefficients[0,2]/sindy_coefficients[3,2]\n",
    "\n",
    "sindy_coefficients_transformed = np.zeros(sindy_coefficients.shape)\n",
    "sindy_coefficients_transformed[1,0] = sindy_coefficients[1,0]\n",
    "sindy_coefficients_transformed[2,0] = sindy_coefficients[2,0]*a2/a1\n",
    "sindy_coefficients_transformed[1,1] = sindy_coefficients[6,1]*a1/a2*b3\n",
    "sindy_coefficients_transformed[2,1] = sindy_coefficients[2,1]\n",
    "sindy_coefficients_transformed[6,1] = sindy_coefficients[6,1]*a1*a3/a2\n",
    "sindy_coefficients_transformed[3,2] = sindy_coefficients[3,2]\n",
    "sindy_coefficients_transformed[5,2] = sindy_coefficients[5,2]*a1*a2/a3\n",
    "\n",
    "z0_transformed = np.array([z[0,0]/a1,\n",
    "                           z[0,1]/a2,\n",
    "                           (z[0,2] - b3)/a3])\n",
    "\n",
    "print(sindy_coefficients)"
   ]
  },
  {
   "cell_type": "code",
   "execution_count": 23,
   "metadata": {},
   "outputs": [],
   "source": [
    "t = np.arange(0,20,.01)\n",
    "z0 = np.array([[-8,7,27]])\n",
    "lorenz_sim = sindy_simulate(training_data['z'][0, 0], t, training_data['sindy_coefficients'],\n",
    "                            params['poly_order'], params['include_sine'])\n",
    "z_sim = sindy_simulate(torch.Tensor.cpu(z[0]).numpy(), t, torch.Tensor.cpu(sindy_coefficients).numpy(),\n",
    "                       params['poly_order'], params['include_sine'])\n",
    "z_sim_transformed = sindy_simulate(z0_transformed, t, sindy_coefficients_transformed,\n",
    "                                   params['poly_order'], params['include_sine'])"
   ]
  },
  {
   "cell_type": "code",
   "execution_count": 24,
   "metadata": {},
   "outputs": [
    {
     "data": {
      "image/png": "[encoded data removed]",
      "text/plain": [
       "<Figure size 300x300 with 1 Axes>"
      ]
     },
     "metadata": {},
     "output_type": "display_data"
    },
    {
     "data": {
      "image/png": "[encoded data removed]",
      "text/plain": [
       "<Figure size 300x300 with 1 Axes>"
      ]
     },
     "metadata": {},
     "output_type": "display_data"
    },
    {
     "data": {
      "image/png": "[encoded data removed]",
      "text/plain": [
       "<Figure size 300x300 with 1 Axes>"
      ]
     },
     "metadata": {},
     "output_type": "display_data"
    }
   ],
   "source": [
    "fig1 = plt.figure(figsize=(3,3))\n",
    "ax1 = fig1.add_subplot(111, projection='3d')\n",
    "ax1.plot(z_sim[:,0], z_sim[:,1], z_sim[:,2], linewidth=2)\n",
    "plt.axis('off')\n",
    "ax1.view_init(azim=120)\n",
    "\n",
    "fig2 = plt.figure(figsize=(3,3))\n",
    "ax2 = fig2.add_subplot(111, projection='3d')\n",
    "ax2.plot(z_sim_transformed[:,0], z_sim_transformed[:,1], z_sim_transformed[:,2], linewidth=2)\n",
    "plt.axis('off')\n",
    "ax2.view_init(azim=120)\n",
    "\n",
    "fig3 = plt.figure(figsize=(3,3))\n",
    "ax3 = fig3.add_subplot(111, projection='3d')\n",
    "ax3.plot(lorenz_sim[:,0], lorenz_sim[:,1], lorenz_sim[:,2], linewidth=2)\n",
    "plt.xticks([])\n",
    "plt.axis('off')\n",
    "ax3.view_init(azim=120)"
   ]
  },
  {
   "cell_type": "code",
   "execution_count": 25,
   "metadata": {},
   "outputs": [
    {
     "data": {
      "image/png": "[encoded data removed]",
      "text/plain": [
       "<Figure size 300x300 with 3 Axes>"
      ]
     },
     "metadata": {},
     "output_type": "display_data"
    }
   ],
   "source": [
    "plt.figure(figsize=(3,3))\n",
    "for i in range(3):\n",
    "    plt.subplot(3,1,i+1)\n",
    "    plt.plot(t, z[:2000,i], color='#888888', linewidth=2)\n",
    "    plt.plot(t, z_sim[:,i], '--', linewidth=2)\n",
    "    plt.xticks([])\n",
    "    plt.yticks([])\n",
    "    plt.axis('off')"
   ]
  },
  {
   "cell_type": "code",
   "execution_count": 21,
   "metadata": {},
   "outputs": [
    {
     "name": "stdout",
     "output_type": "stream",
     "text": [
      "Parameter containing:\n",
      "tensor([[-5.2630e-02, -2.6185e-02,  7.1148e-01],\n",
      "        [-4.4009e-02,  2.3602e-02, -4.9072e-02],\n",
      "        [ 1.9142e-01,  5.0389e-02,  2.8308e-01],\n",
      "        [-5.4290e-01, -3.3883e-02,  1.6699e-04],\n",
      "        [ 8.7651e-02, -2.2960e-02, -1.3281e+00],\n",
      "        [ 6.7333e-02, -3.8097e-01, -2.3211e-02],\n",
      "        [-3.5891e-02, -4.3048e-04,  1.0285e-02],\n",
      "        [ 1.2722e-01, -1.9083e-02, -2.8864e-02],\n",
      "        [ 2.4637e+00,  3.9524e-01, -3.1228e-01],\n",
      "        [-3.1940e-02, -1.5167e-02,  9.1976e-01],\n",
      "        [-3.0051e-02, -1.0353e-01,  1.0943e+00],\n",
      "        [ 2.5987e-02,  3.7156e-01,  1.0961e+00],\n",
      "        [-9.0866e-01,  3.9979e-01,  6.0607e-01],\n",
      "        [-6.8170e-01,  1.2204e+00, -2.0211e-02],\n",
      "        [-1.5745e+00,  1.0842e+00, -2.0668e-02],\n",
      "        [-2.5190e-02, -1.0773e-02, -1.7174e-02],\n",
      "        [-1.0187e+00,  8.1719e-03, -9.1091e-02],\n",
      "        [-2.5300e-02, -1.9104e-02, -1.9080e-02],\n",
      "        [-4.6177e-02,  6.0573e-01, -5.9152e-01],\n",
      "        [-2.2553e-02,  1.0167e+00,  9.8824e-02]], device='cuda:0',\n",
      "       dtype=torch.float64, requires_grad=True)\n"
     ]
    },
    {
     "data": {
      "image/png": "[encoded data removed]",
      "text/plain": [
       "<Figure size 100x200 with 1 Axes>"
      ]
     },
     "metadata": {},
     "output_type": "display_data"
    },
    {
     "data": {
      "image/png": "[encoded data removed]",
      "text/plain": [
       "<Figure size 100x200 with 1 Axes>"
      ]
     },
     "metadata": {},
     "output_type": "display_data"
    },
    {
     "data": {
      "image/png": "[encoded data removed]",
      "text/plain": [
       "<Figure size 100x200 with 1 Axes>"
      ]
     },
     "metadata": {},
     "output_type": "display_data"
    }
   ],
   "source": [
    "Xi_plot = (params['coefficient_mask']*sindy_coefficients.numpy())\n",
    "Xi_plot[Xi_plot==0] = np.inf\n",
    "plt.figure(figsize=(1,2))\n",
    "plt.imshow(Xi_plot, interpolation='none')\n",
    "plt.xticks([])\n",
    "plt.yticks([])\n",
    "plt.axis('off')\n",
    "plt.clim([-10,30])\n",
    "\n",
    "Xi_transformed_plot = np.copy(sindy_coefficients_transformed)\n",
    "Xi_transformed_plot[Xi_transformed_plot==0] = np.inf\n",
    "plt.figure(figsize=(1,2))\n",
    "plt.imshow(Xi_transformed_plot, interpolation='none')\n",
    "plt.xticks([])\n",
    "plt.yticks([])\n",
    "plt.axis('off')\n",
    "plt.clim([-10,30])\n",
    "\n",
    "Xi_true_plot = np.copy(training_data['sindy_coefficients'])\n",
    "Xi_true_plot[Xi_true_plot==0] = np.inf\n",
    "Xi_true_plot[6,1] = -1.\n",
    "Xi_true_plot[5,2] = 1.\n",
    "plt.figure(figsize=(1,2))\n",
    "plt.imshow(Xi_true_plot, interpolation='none')\n",
    "plt.xticks([])\n",
    "plt.yticks([])\n",
    "plt.axis('off')\n",
    "plt.clim([-10,30])\n",
    "\n",
    "print(sindy.sindy_coefficients)"
   ]
  }
 ],
 "metadata": {
  "kernelspec": {
   "display_name": "3.10.4",
   "language": "python",
   "name": "python3"
  },
  "language_info": {
   "codemirror_mode": {
    "name": "ipython",
    "version": 3
   },
   "file_extension": ".py",
   "mimetype": "text/x-python",
   "name": "python",
   "nbconvert_exporter": "python",
   "pygments_lexer": "ipython3",
   "version": "3.10.4"
  }
 },
 "nbformat": 4,
 "nbformat_minor": 2
}
